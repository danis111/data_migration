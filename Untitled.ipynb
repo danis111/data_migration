{
 "cells": [
  {
   "cell_type": "code",
   "execution_count": 1,
   "id": "58006b49",
   "metadata": {},
   "outputs": [
    {
     "name": "stdout",
     "output_type": "stream",
     "text": [
      "The current working directory is C:\\Users\\danis\\Desktop\\my_categories\n"
     ]
    }
   ],
   "source": [
    "# import the os module\n",
    "import os\n",
    "\n",
    "# Let's detect the current working directory and then print it\n",
    "path = os.getcwd()\n",
    "print(\"The current working directory is {directory}\".format(directory=path))"
   ]
  },
  {
   "cell_type": "code",
   "execution_count": 2,
   "id": "d2684244",
   "metadata": {},
   "outputs": [
    {
     "name": "stdout",
     "output_type": "stream",
     "text": [
      "C:\\Users\\danis\\Desktop\\my_categories\\categories Directory has been created successfully \n"
     ]
    }
   ],
   "source": [
    "\n",
    "\n",
    "# pick up the name of the directory that you want to create\n",
    "path = r\"C:\\Users\\danis\\Desktop\\my_categories\\categories\"\n",
    "\n",
    "try:\n",
    "    os.makedirs(path)\n",
    "except OSError:\n",
    "    print (\"Creation of %s directory has failed\" % path)\n",
    "else:\n",
    "    print (\"%s Directory has been created successfully \" % path)"
   ]
  },
  {
   "cell_type": "code",
   "execution_count": 5,
   "id": "21a29834",
   "metadata": {},
   "outputs": [],
   "source": [
    "import pyodbc \n",
    "import pandas as pd\n",
    "server = 'DESKTOP-DRB7DGT\\DROGBA' \n",
    "# db = 'BikeStores'\n",
    "# UID='sa'\n",
    "# PWD='Melo.539933'\n",
    "\n",
    "conn = pyodbc.connect('Driver={SQL Server};'\n",
    "                      'Server=DESKTOP-DRB7DGT\\DANYA;'\n",
    "                      'Database=BikeStores;'\n",
    "                      'Trusted_Connection=yes;')\n",
    "df=pd.read_sql_query('''select category_name  from production.categories ''',conn)\n",
    "for i in df[\"category_name\"]:\n",
    "    statement='''select c.category_id,c.category_name,i.product_id,sum(i.list_price*i.quantity) as total from production.categories c\n",
    "            inner join production.products p on p.category_id=c.category_id\n",
    "            inner join sales.order_items i on i.product_id=p.product_id\n",
    "            group by c.category_id,c.category_name,i.product_id\n",
    "            having c.category_name='{x}'\n",
    "            order by category_id,c.category_name,total desc'''.format(x=i)\n",
    "    sql_query = pd.read_sql_query(statement,conn)\n",
    "    df = pd.DataFrame(sql_query)\n",
    "    path=r\"C:\\Users\\danis\\Desktop\\my_categories\\categories\\category_name_{x}.csv\".format(x=i)\n",
    "    df.to_csv (path,index = False) # place 'r' before the path name\n",
    "    \n",
    "\n",
    "    "
   ]
  },
  {
   "cell_type": "code",
   "execution_count": 3,
   "id": "eb2297ba",
   "metadata": {},
   "outputs": [],
   "source": [
    "import pyodbc \n",
    "import pandas as pd\n",
    "server = 'DESKTOP-DRB7DGT\\DROGBA' \n",
    "# db = 'BikeStores'\n",
    "# UID='sa'\n",
    "# PWD='Melo.539933'\n",
    "\n",
    "conn = pyodbc.connect('Driver={SQL Server};'\n",
    "                      'Server=DESKTOP-DRB7DGT\\DANYA;'\n",
    "                      'Database=BikeStores;'\n",
    "                      'Trusted_Connection=yes;')\n",
    "df=pd.read_sql_query('''select category_name  from production.categories ''',conn)"
   ]
  },
  {
   "cell_type": "code",
   "execution_count": 4,
   "id": "6de04af6",
   "metadata": {},
   "outputs": [
    {
     "data": {
      "text/html": [
       "<div>\n",
       "<style scoped>\n",
       "    .dataframe tbody tr th:only-of-type {\n",
       "        vertical-align: middle;\n",
       "    }\n",
       "\n",
       "    .dataframe tbody tr th {\n",
       "        vertical-align: top;\n",
       "    }\n",
       "\n",
       "    .dataframe thead th {\n",
       "        text-align: right;\n",
       "    }\n",
       "</style>\n",
       "<table border=\"1\" class=\"dataframe\">\n",
       "  <thead>\n",
       "    <tr style=\"text-align: right;\">\n",
       "      <th></th>\n",
       "      <th>category_name</th>\n",
       "    </tr>\n",
       "  </thead>\n",
       "  <tbody>\n",
       "    <tr>\n",
       "      <th>0</th>\n",
       "      <td>Children Bicycles</td>\n",
       "    </tr>\n",
       "    <tr>\n",
       "      <th>1</th>\n",
       "      <td>Comfort Bicycles</td>\n",
       "    </tr>\n",
       "    <tr>\n",
       "      <th>2</th>\n",
       "      <td>Cruisers Bicycles</td>\n",
       "    </tr>\n",
       "    <tr>\n",
       "      <th>3</th>\n",
       "      <td>Cyclocross Bicycles</td>\n",
       "    </tr>\n",
       "    <tr>\n",
       "      <th>4</th>\n",
       "      <td>Electric Bikes</td>\n",
       "    </tr>\n",
       "    <tr>\n",
       "      <th>5</th>\n",
       "      <td>Mountain Bikes</td>\n",
       "    </tr>\n",
       "    <tr>\n",
       "      <th>6</th>\n",
       "      <td>Road Bikes</td>\n",
       "    </tr>\n",
       "  </tbody>\n",
       "</table>\n",
       "</div>"
      ],
      "text/plain": [
       "         category_name\n",
       "0    Children Bicycles\n",
       "1     Comfort Bicycles\n",
       "2    Cruisers Bicycles\n",
       "3  Cyclocross Bicycles\n",
       "4       Electric Bikes\n",
       "5       Mountain Bikes\n",
       "6           Road Bikes"
      ]
     },
     "execution_count": 4,
     "metadata": {},
     "output_type": "execute_result"
    }
   ],
   "source": [
    "df"
   ]
  },
  {
   "cell_type": "code",
   "execution_count": null,
   "id": "6fd90396",
   "metadata": {},
   "outputs": [],
   "source": []
  }
 ],
 "metadata": {
  "kernelspec": {
   "display_name": "Python 3 (ipykernel)",
   "language": "python",
   "name": "python3"
  },
  "language_info": {
   "codemirror_mode": {
    "name": "ipython",
    "version": 3
   },
   "file_extension": ".py",
   "mimetype": "text/x-python",
   "name": "python",
   "nbconvert_exporter": "python",
   "pygments_lexer": "ipython3",
   "version": "3.10.1"
  }
 },
 "nbformat": 4,
 "nbformat_minor": 5
}
